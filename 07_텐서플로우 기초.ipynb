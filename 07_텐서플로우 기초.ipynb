{
 "cells": [
  {
   "cell_type": "code",
   "execution_count": 1,
   "metadata": {},
   "outputs": [],
   "source": [
    "# Users\\Users_>conda create -n tf1 python=3.8"
   ]
  },
  {
   "cell_type": "markdown",
   "metadata": {},
   "source": [
    "#### 참고\n",
    "\n",
    "+ http://www.tensorflow.org\n",
    "+ https://hunkim.github.io/ml/\n",
    "\n",
    "#### 가상 환경 준비\n",
    "\n",
    "+ conda create -n 가상환경이름\n",
    "    - conda create -n tf1 python=3.7 anaconda\n",
    "+ activate 가상환경이름\n",
    "+ conda deactivate\n",
    "+ 삭제 : conde remove --name 가상환경이름 --all\n",
    "\n",
    "#### 설치\n",
    "\n",
    "+ pip install tensorflow\n",
    "+ pip install tensorflow==1.15.0\n",
    "+ conda install tensorflow==1.15.0\n",
    "\n",
    "#### 특징\n",
    "\n",
    "+ 구글에서 만든 오픈소스 머신러닝 프레임워크\n",
    "+ 다양한 언어를 제공하며 파이썬이 가장 많이 사용됨\n",
    "+ 기본적으로 텐서를 활용한 그래프 수치 연산을 하는 도구\n",
    "\n",
    "#### 머신러닝 프레임워크 종류들\n",
    "\n",
    "+ Theano\n",
    "+ Pytorch\n",
    "+ Torch\n",
    "+ Caffe\n",
    "+ Keras\n",
    "+ ...\n",
    "\n",
    "#### 기본용어\n",
    "\n",
    "+ 그래프(graph) : 수학적인 의미에서 노드와 엣지로 구성된 기하모형\n",
    "+ 노드(node) : 연산 및 데이터 정의\n",
    "+ 엣지(edge) : 노드를 연결하는 선(데이터의 흐름)\n",
    "+ 텐서(tensor) : 다차원 데이터 배열\n",
    "+ 세션(session) : 그래프를 실행시키기 위해서 필요한 객체"
   ]
  },
  {
   "cell_type": "code",
   "execution_count": 2,
   "metadata": {
    "collapsed": true
   },
   "outputs": [
    {
     "name": "stdout",
     "output_type": "stream",
     "text": [
      "Requirement already satisfied: tensorflow==1.15.0 in c:\\users\\user_\\anaconda3\\envs\\tf1\\lib\\site-packages (1.15.0)Note: you may need to restart the kernel to use updated packages.\n",
      "Collecting as\n",
      "  Downloading as-0.1-py3-none-any.whl (2.2 kB)\n",
      "Collecting tf\n",
      "  Downloading tf-1.0.0.tar.gz (620 bytes)\n",
      "Requirement already satisfied: wheel>=0.26 in c:\\users\\user_\\anaconda3\\envs\\tf1\\lib\\site-packages (from tensorflow==1.15.0) (0.35.1)\n",
      "Requirement already satisfied: tensorboard<1.16.0,>=1.15.0 in c:\\users\\user_\\anaconda3\\envs\\tf1\\lib\\site-packages (from tensorflow==1.15.0) (1.15.0)\n",
      "Requirement already satisfied: keras-applications>=1.0.8 in c:\\users\\user_\\anaconda3\\envs\\tf1\\lib\\site-packages (from tensorflow==1.15.0) (1.0.8)\n",
      "Requirement already satisfied: six>=1.10.0 in c:\\users\\user_\\anaconda3\\envs\\tf1\\lib\\site-packages (from tensorflow==1.15.0) (1.15.0)\n",
      "Requirement already satisfied: tensorflow-estimator==1.15.1 in c:\\users\\user_\\anaconda3\\envs\\tf1\\lib\\site-packages (from tensorflow==1.15.0) (1.15.1)\n",
      "Requirement already satisfied: astor>=0.6.0 in c:\\users\\user_\\anaconda3\\envs\\tf1\\lib\\site-packages (from tensorflow==1.15.0) (0.8.1)\n",
      "Requirement already satisfied: wrapt>=1.11.1 in c:\\users\\user_\\anaconda3\\envs\\tf1\\lib\\site-packages (from tensorflow==1.15.0) (1.11.2)\n",
      "Requirement already satisfied: grpcio>=1.8.6 in c:\\users\\user_\\anaconda3\\envs\\tf1\\lib\\site-packages (from tensorflow==1.15.0) (1.34.1)\n",
      "Requirement already satisfied: termcolor>=1.1.0 in c:\\users\\user_\\anaconda3\\envs\\tf1\\lib\\site-packages (from tensorflow==1.15.0) (1.1.0)\n",
      "Requirement already satisfied: keras-preprocessing>=1.0.5 in c:\\users\\user_\\anaconda3\\envs\\tf1\\lib\\site-packages (from tensorflow==1.15.0) (1.1.2)\n",
      "Requirement already satisfied: protobuf>=3.6.1 in c:\\users\\user_\\anaconda3\\envs\\tf1\\lib\\site-packages (from tensorflow==1.15.0) (3.14.0)\n",
      "Requirement already satisfied: opt-einsum>=2.3.2 in c:\\users\\user_\\anaconda3\\envs\\tf1\\lib\\site-packages (from tensorflow==1.15.0) (3.3.0)\n",
      "Requirement already satisfied: gast==0.2.2 in c:\\users\\user_\\anaconda3\\envs\\tf1\\lib\\site-packages (from tensorflow==1.15.0) (0.2.2)\n",
      "Requirement already satisfied: google-pasta>=0.1.6 in c:\\users\\user_\\anaconda3\\envs\\tf1\\lib\\site-packages (from tensorflow==1.15.0) (0.2.0)\n",
      "Requirement already satisfied: numpy<2.0,>=1.16.0 in c:\\users\\user_\\anaconda3\\envs\\tf1\\lib\\site-packages (from tensorflow==1.15.0) (1.17.0)\n",
      "Requirement already satisfied: absl-py>=0.7.0 in c:\\users\\user_\\anaconda3\\envs\\tf1\\lib\\site-packages (from tensorflow==1.15.0) (0.11.0)\n",
      "Requirement already satisfied: werkzeug>=0.11.15 in c:\\users\\user_\\anaconda3\\envs\\tf1\\lib\\site-packages (from tensorboard<1.16.0,>=1.15.0->tensorflow==1.15.0) (1.0.1)\n",
      "Requirement already satisfied: markdown>=2.6.8 in c:\\users\\user_\\anaconda3\\envs\\tf1\\lib\\site-packages (from tensorboard<1.16.0,>=1.15.0->tensorflow==1.15.0) (3.3.3)\n",
      "Requirement already satisfied: setuptools>=41.0.0 in c:\\users\\user_\\anaconda3\\envs\\tf1\\lib\\site-packages (from tensorboard<1.16.0,>=1.15.0->tensorflow==1.15.0) (50.3.1.post20201107)\n",
      "Requirement already satisfied: h5py in c:\\users\\user_\\anaconda3\\envs\\tf1\\lib\\site-packages (from keras-applications>=1.0.8->tensorflow==1.15.0) (2.10.0)\n",
      "Requirement already satisfied: importlib-metadata; python_version < \"3.8\" in c:\\users\\user_\\anaconda3\\envs\\tf1\\lib\\site-packages (from markdown>=2.6.8->tensorboard<1.16.0,>=1.15.0->tensorflow==1.15.0) (2.0.0)\n",
      "Requirement already satisfied: zipp>=0.5 in c:\\users\\user_\\anaconda3\\envs\\tf1\\lib\\site-packages (from importlib-metadata; python_version < \"3.8\"->markdown>=2.6.8->tensorboard<1.16.0,>=1.15.0->tensorflow==1.15.0) (3.4.0)\n",
      "Building wheels for collected packages: tf\n",
      "  Building wheel for tf (setup.py): started\n",
      "  Building wheel for tf (setup.py): finished with status 'done'\n",
      "  Created wheel for tf: filename=tf-1.0.0-py3-none-any.whl size=1290 sha256=3725e0a8527278c570947ed7a1138f48b2d2ffdd5b49c5d925317c5e2d5daa02\n",
      "  Stored in directory: c:\\users\\user_\\appdata\\local\\pip\\cache\\wheels\\db\\c7\\58\\cca67875b41ff853d3fdaa20b54a780ef2e045fbcacaef1ee3\n",
      "Successfully built tf\n",
      "Installing collected packages: as, tf\n",
      "Successfully installed as-0.1 tf-1.0.0\n",
      "\n"
     ]
    }
   ],
   "source": [
    "pip install tensorflow==1.15.0 as tf # sys가 3.7.9인거 확인하고"
   ]
  },
  {
   "cell_type": "code",
   "execution_count": 1,
   "metadata": {},
   "outputs": [
    {
     "name": "stdout",
     "output_type": "stream",
     "text": [
      "3.7.9 (default, Aug 31 2020, 17:10:11) [MSC v.1916 64 bit (AMD64)]\n",
      "1.15.0\n"
     ]
    }
   ],
   "source": [
    "import sys\n",
    "import tensorflow as tf\n",
    "\n",
    "print(sys.version)\n",
    "print(tf.__version__)"
   ]
  },
  {
   "cell_type": "markdown",
   "metadata": {},
   "source": [
    "### 1. 텐서\n",
    "\n",
    "0D텐서, 1D텐서, 2D텐서, 3D텐서, 고차원텐서"
   ]
  },
  {
   "cell_type": "code",
   "execution_count": 9,
   "metadata": {},
   "outputs": [
    {
     "data": {
      "text/plain": [
       "dtype('int32')"
      ]
     },
     "execution_count": 9,
     "metadata": {},
     "output_type": "execute_result"
    }
   ],
   "source": [
    "import numpy as np\n",
    "\n",
    "# 0D 텐서(스칼라)\n",
    "\n",
    "x = np.array(10)\n",
    "x\n",
    "x.ndim\n",
    "x.shape\n",
    "x.dtype"
   ]
  },
  {
   "cell_type": "code",
   "execution_count": 13,
   "metadata": {},
   "outputs": [
    {
     "data": {
      "text/plain": [
       "1"
      ]
     },
     "execution_count": 13,
     "metadata": {},
     "output_type": "execute_result"
    }
   ],
   "source": [
    "# 1D 텐서(벡터)\n",
    "x = np.array([10])\n",
    "x\n",
    "x.ndim\n",
    "x.shape\n",
    "x.dtype"
   ]
  },
  {
   "cell_type": "code",
   "execution_count": 15,
   "metadata": {},
   "outputs": [
    {
     "data": {
      "text/plain": [
       "(3, 4)"
      ]
     },
     "execution_count": 15,
     "metadata": {},
     "output_type": "execute_result"
    }
   ],
   "source": [
    "# 2D 텐서(행렬)\n",
    "\n",
    "x = np.array([[1,2,3,4],[5,6,7,8],[9,10,11,12]])\n",
    "x\n",
    "x.ndim\n",
    "x.shape"
   ]
  },
  {
   "cell_type": "code",
   "execution_count": 16,
   "metadata": {},
   "outputs": [],
   "source": [
    "# 3D 텐서, 고차원 텐서\n",
    "# 딥러닝에서는 0D ~ 4D(주로 이미지용)까지 주로 사용\n",
    "# 동영상을 다룰때에는 5D 텐서까지 사용\n",
    "\n",
    "# 자주 사용하는 속성\n",
    "    # 1. 축의 갯수(rank) : ndim\n",
    "    # 2. 크기 : shape\n",
    "    # 3. 타입 : dtype"
   ]
  },
  {
   "cell_type": "markdown",
   "metadata": {},
   "source": [
    "### 2. 기본 구성 요소\n",
    "\n",
    "+ placeholder()\n",
    "\n",
    "\n",
    "+ constant()\n",
    "    - tf.constant(value, dtype=None, shape=None, name='Const', verify_shape=False)\n",
    "\n",
    "\n",
    "+ Variable()\n",
    "    - tf.Variable(\n",
    "        initial_value=None, \n",
    "        trainable=None, \n",
    "        collections=None, \n",
    "        validate_shape=True,\n",
    "        caching_device=None, \n",
    "        name=None,\n",
    "        variable_def=None,\n",
    "        dtype=None,\n",
    "        expected_shape=None,\n",
    "        import_scope=None,\n",
    "        constraint=None,\n",
    "        use_resource=None,\n",
    "        synchronization=tf.VariableSynchronization.AUTO,\n",
    "        aggregation=tf.VariableAggregation.NONE, \n",
    "        shape=None)"
   ]
  },
  {
   "cell_type": "markdown",
   "metadata": {},
   "source": [
    "#### 1) constanat\n",
    "\n",
    "+ 절대 변하지 않는 상수를 의미\n",
    "+ 자체적으로 그래프를 가진다.\n",
    "+ 메서드"
   ]
  },
  {
   "cell_type": "code",
   "execution_count": 23,
   "metadata": {},
   "outputs": [
    {
     "name": "stdout",
     "output_type": "stream",
     "text": [
      "Tensor(\"Const_3:0\", shape=(), dtype=int32)\n",
      "Tensor(\"Const_4:0\", shape=(), dtype=int32)\n",
      "Tensor(\"Add:0\", shape=(), dtype=int32)\n"
     ]
    }
   ],
   "source": [
    "a = tf.constant(10)\n",
    "print(a)\n",
    "\n",
    "b = tf.constant(20)\n",
    "print(b)\n",
    "\n",
    "c = tf.add(a,b)\n",
    "print(c)"
   ]
  },
  {
   "cell_type": "code",
   "execution_count": 24,
   "metadata": {
    "scrolled": true
   },
   "outputs": [
    {
     "name": "stdout",
     "output_type": "stream",
     "text": [
      "10\n",
      "20\n",
      "30\n"
     ]
    }
   ],
   "source": [
    "sess = tf.Session()\n",
    "print(sess.run(a))\n",
    "print(sess.run(b))\n",
    "print(sess.run(c))"
   ]
  },
  {
   "cell_type": "code",
   "execution_count": 29,
   "metadata": {},
   "outputs": [],
   "source": [
    "# 결과 : 5*4*3*2*1"
   ]
  },
  {
   "cell_type": "code",
   "execution_count": 43,
   "metadata": {},
   "outputs": [
    {
     "data": {
      "text/plain": [
       "<tensorflow.python.summary.writer.writer.FileWriter at 0x24d222b4408>"
      ]
     },
     "execution_count": 43,
     "metadata": {},
     "output_type": "execute_result"
    }
   ],
   "source": [
    "# TensorBoard\n",
    "tf.summary.FileWriter(\"log_dir\", graph=sess.graph)\n",
    "\n",
    "# tensorboard -- logdir=log_dir"
   ]
  },
  {
   "cell_type": "code",
   "execution_count": 36,
   "metadata": {},
   "outputs": [],
   "source": [
    "sess.close()"
   ]
  },
  {
   "cell_type": "code",
   "execution_count": 27,
   "metadata": {},
   "outputs": [
    {
     "data": {
      "text/plain": [
       "<tensorflow.python.summary.writer.writer.FileWriter at 0x24d2105d808>"
      ]
     },
     "execution_count": 27,
     "metadata": {},
     "output_type": "execute_result"
    }
   ],
   "source": [
    "#(5+2)*3\n",
    "\n",
    "a=tf.constant([5])\n",
    "b=tf.constant([2])\n",
    "c=tf.add(a,b)\n",
    "d=tf.constant([3])\n",
    "e=tf.multiply(c,d)"
   ]
  },
  {
   "cell_type": "code",
   "execution_count": null,
   "metadata": {},
   "outputs": [],
   "source": [
    "sess = tf.Session()\n",
    "sess.run(e)"
   ]
  },
  {
   "cell_type": "code",
   "execution_count": null,
   "metadata": {},
   "outputs": [],
   "source": [
    "tf.summary.FileWriter(\"log_dir\",graph=sess.graph)"
   ]
  },
  {
   "cell_type": "markdown",
   "metadata": {},
   "source": [
    "#### 2) Variable\n",
    "\n",
    "+ 객체로 정의되어 있다.\n",
    "+ weight(가중치)를 저장하는 변수\n",
    "+ 사용 전에 반드시 초기화(global_variables_initializer()호출)"
   ]
  },
  {
   "cell_type": "code",
   "execution_count": 50,
   "metadata": {},
   "outputs": [
    {
     "name": "stdout",
     "output_type": "stream",
     "text": [
      "Tensor(\"add_17:0\", shape=(1,), dtype=int32)\n"
     ]
    }
   ],
   "source": [
    "v1 = tf.Variable(initial_value=[5])\n",
    "v2 = tf.Variable([3])\n",
    "v3 = tf.Variable([2])\n",
    "\n",
    "v4 = v1 + v2 + v3\n",
    "print(v4)"
   ]
  },
  {
   "cell_type": "code",
   "execution_count": 51,
   "metadata": {},
   "outputs": [
    {
     "data": {
      "text/plain": [
       "array([10])"
      ]
     },
     "execution_count": 51,
     "metadata": {},
     "output_type": "execute_result"
    }
   ],
   "source": [
    "sess = tf.Session()\n",
    "sess.run(tf.global_variables_initializer())\n",
    "sess.run(v4)"
   ]
  },
  {
   "cell_type": "code",
   "execution_count": 52,
   "metadata": {},
   "outputs": [
    {
     "data": {
      "text/plain": [
       "<tensorflow.python.summary.writer.writer.FileWriter at 0x24d222c5148>"
      ]
     },
     "execution_count": 52,
     "metadata": {},
     "output_type": "execute_result"
    }
   ],
   "source": [
    "tf.summary.FileWriter('log_dir', graph=sess.graph)"
   ]
  },
  {
   "cell_type": "markdown",
   "metadata": {},
   "source": [
    "#### 3) placeholder\n",
    "\n",
    "+ 그래프를 만들지 않는다.\n",
    "+ 입력된 데이터를 텐서와 매핑하는 역할"
   ]
  },
  {
   "cell_type": "code",
   "execution_count": 54,
   "metadata": {},
   "outputs": [],
   "source": [
    "v1 = 5\n",
    "v2 = 3\n",
    "v3 = 2\n",
    "\n",
    "p1 = tf.placeholder(dtype=tf.float32)\n",
    "p2 = tf.placeholder(dtype=tf.float32)\n",
    "p3 = tf.placeholder(dtype=tf.float32)\n",
    "\n",
    "result = p1 + p2 + p3"
   ]
  },
  {
   "cell_type": "code",
   "execution_count": 56,
   "metadata": {},
   "outputs": [
    {
     "data": {
      "text/plain": [
       "10.0"
      ]
     },
     "execution_count": 56,
     "metadata": {},
     "output_type": "execute_result"
    }
   ],
   "source": [
    "v1 = 5\n",
    "v2 = 3\n",
    "v3 = 2\n",
    "\n",
    "sess = tf.Session()\n",
    "sess.run(result, feed_dict={p1:v1, p2:v2, p3:v3})"
   ]
  },
  {
   "cell_type": "code",
   "execution_count": 2,
   "metadata": {},
   "outputs": [],
   "source": [
    "#구구단 프로그램\n",
    "def gugu(dan):\n",
    "    left = tf.placeholder(tf.int32)\n",
    "    right = tf.placeholder(tf.int32)\n",
    "    calc = tf.multiply(left, right)\n",
    "    \n",
    "    sess = tf.Session()\n",
    "    for i in range(1,10):\n",
    "        result = sess.run(calc, feed_dict={left:dan, right:i})\n",
    "        print(\"{} * {} = {}\".format(dan, i, result))\n",
    "    sess.close()"
   ]
  },
  {
   "cell_type": "code",
   "execution_count": 3,
   "metadata": {},
   "outputs": [
    {
     "name": "stdout",
     "output_type": "stream",
     "text": [
      "5 * 1 = 5\n",
      "5 * 2 = 10\n",
      "5 * 3 = 15\n",
      "5 * 4 = 20\n",
      "5 * 5 = 25\n",
      "5 * 6 = 30\n",
      "5 * 7 = 35\n",
      "5 * 8 = 40\n",
      "5 * 9 = 45\n"
     ]
    }
   ],
   "source": [
    "gugu(5)"
   ]
  }
 ],
 "metadata": {
  "kernelspec": {
   "display_name": "Python 3",
   "language": "python",
   "name": "python3"
  },
  "language_info": {
   "codemirror_mode": {
    "name": "ipython",
    "version": 3
   },
   "file_extension": ".py",
   "mimetype": "text/x-python",
   "name": "python",
   "nbconvert_exporter": "python",
   "pygments_lexer": "ipython3",
   "version": "3.8.3"
  }
 },
 "nbformat": 4,
 "nbformat_minor": 4
}

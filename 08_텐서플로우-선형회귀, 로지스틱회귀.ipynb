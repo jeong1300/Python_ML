{
 "cells": [
  {
   "cell_type": "code",
   "execution_count": 1,
   "metadata": {},
   "outputs": [],
   "source": [
    "import tensorflow as tf\n",
    "import numpy as np\n",
    "import pandas as pd\n",
    "import matplotlib.pylab as plt\n",
    "import sys"
   ]
  },
  {
   "cell_type": "markdown",
   "metadata": {},
   "source": [
    "## 단순 선형 회귀 모델"
   ]
  },
  {
   "cell_type": "code",
   "execution_count": 37,
   "metadata": {},
   "outputs": [
    {
     "data": {
      "image/png": "[encoded data removed]",
      "text/plain": [
       "<Figure size 432x288 with 1 Axes>"
      ]
     },
     "metadata": {
      "needs_background": "light"
     },
     "output_type": "display_data"
    }
   ],
   "source": [
    "# 데이터 준비\n",
    "x_train = [1,2,3]\n",
    "y_train = [1,2,3]\n",
    "\n",
    "W = tf.placeholder(tf.float32)\n",
    "\n",
    "# 가설 준비(Wx + b)\n",
    "hypot = W * x_train\n",
    "\n",
    "# 비용 함수\n",
    "cost = tf.reduce_mean(tf.square(hypot - y_train))\n",
    "#------------------ 텐서플로우의 그래프 완성 ------------------#\n",
    "\n",
    "# 비용함수를 그래프로 그려보기\n",
    "sess = tf.Session()\n",
    "\n",
    "cost_val = []\n",
    "for i in range(-30, 50):\n",
    "    result = sess.run(cost, feed_dict={W:i*0.1})\n",
    "    cost_val.append(result)\n",
    "    \n",
    "plt.plot(cost_val)\n",
    "sess.close()"
   ]
  },
  {
   "cell_type": "markdown",
   "metadata": {},
   "source": [
    "## 경사하강 알고리즘을 이용한 가중치 학습"
   ]
  },
  {
   "cell_type": "code",
   "execution_count": 40,
   "metadata": {},
   "outputs": [
    {
     "name": "stdout",
     "output_type": "stream",
     "text": [
      "0 [0.7461744] 0.59532416\n",
      "1 [0.69492537] 0.3500137\n",
      "2 [0.6600923] 0.26602006\n",
      "3 [0.63281864] 0.22292401\n",
      "4 [0.6094312] 0.19708543\n",
      "5 [0.5879545] 0.18045779\n",
      "6 [0.56707615] 0.16968513\n",
      "7 [0.5457183] 0.1633393\n",
      "8 [0.52278745] 0.16105749\n",
      "9 [0.49694908] 0.16334693\n",
      "10 [0.46632236] 0.17180721\n",
      "11 [0.42794475] 0.18990557\n",
      "12 [0.37667677] 0.22494261\n",
      "13 [0.30267364] 0.2931958\n",
      "14 [0.18472877] 0.4349784\n",
      "15 [-0.03041674] 0.76659876\n",
      "16 [-0.50886345] 1.7059412\n",
      "17 [-1.9710631] 5.3434963\n",
      "18 [-9.844883] 29.702562\n",
      "19 [-140.4569] 503.92136\n",
      "20 [-24012.559] 92780.57\n"
     ]
    }
   ],
   "source": [
    "# 데이터 준비\n",
    "x_train = [1,2,3]\n",
    "y_train = [1,2,3]\n",
    "\n",
    "W = tf.Variable(tf.random_normal([1]), dtype=tf.float32, name='Weight')\n",
    "b = tf.Variable(tf.random_normal([1]), dtype=tf.float32, name='bias')\n",
    "\n",
    "# 가설 준비(Wx + b)\n",
    "hypot = W * x_train + b\n",
    "\n",
    "# 비용 함수\n",
    "cost = tf.reduce_mean(tf.square(hypot - y_train))\n",
    "\n",
    "# 최저 비용 학습을 위한 경사 하강 알고리즘(Gradient Desent)\n",
    "gradient = tf.reduce_mean(tf.square((hypot - y_train)) * x_train)\n",
    "learning_rate = 0.1\n",
    "descent = W - (learning_rate * gradient)\n",
    "update = W.assign(descent) # W = descent\n",
    "\n",
    "############### Graph 작업 완료\n",
    "\n",
    "sess = tf.Session()\n",
    "sess.run(tf.global_variables_initializer())\n",
    "\n",
    "for step in range(21):\n",
    "    _, weight, c = sess.run([update, W, cost])\n",
    "    print(step, weight, c)\n",
    "    \n",
    "sess.close()"
   ]
  },
  {
   "cell_type": "code",
   "execution_count": 41,
   "metadata": {},
   "outputs": [
    {
     "name": "stdout",
     "output_type": "stream",
     "text": [
      "0 [0.8374008] 0.19224024\n",
      "1 [0.8259559] 0.07435362\n",
      "2 [0.8271004] 0.07317476\n",
      "3 [0.82698596] 0.073163\n",
      "4 [0.8269974] 0.07316288\n",
      "5 [0.82699627] 0.07316289\n",
      "6 [0.8269964] 0.073162876\n",
      "7 [0.8269963] 0.07316285\n",
      "8 [0.8269964] 0.07316288\n",
      "9 [0.8269963] 0.07316285\n",
      "10 [0.8269964] 0.07316288\n",
      "11 [0.8269963] 0.07316285\n",
      "12 [0.8269964] 0.07316288\n",
      "13 [0.8269963] 0.07316285\n",
      "14 [0.8269964] 0.07316288\n",
      "15 [0.8269963] 0.07316285\n",
      "16 [0.8269964] 0.07316288\n",
      "17 [0.8269963] 0.07316285\n",
      "18 [0.8269964] 0.07316288\n",
      "19 [0.8269963] 0.07316285\n",
      "20 [0.8269964] 0.07316288\n"
     ]
    }
   ],
   "source": [
    "# 데이터 준비\n",
    "x_train = tf.placeholder(tf.float32, shape=[None])\n",
    "y_train = tf.placeholder(tf.float32, shape=[None])\n",
    "\n",
    "W = tf.Variable(tf.random_normal([1]), dtype=tf.float32, name='Weight')\n",
    "b = tf.Variable(tf.random_normal([1]), dtype=tf.float32, name='bias')\n",
    "\n",
    "# 가설 준비(Wx + b)\n",
    "hypot = W * x_train + b\n",
    "\n",
    "# 비용 함수\n",
    "cost = tf.reduce_mean(tf.square(hypot - y_train))\n",
    "\n",
    "# 최저 비용 학습을 위한 경사 하강 알고리즘(Gradient Desent)\n",
    "gradient = tf.reduce_mean((hypot - y_train) * x_train)\n",
    "learning_rate = 0.1\n",
    "descent = W - (learning_rate * gradient)\n",
    "update = W.assign(descent) # W = descent\n",
    "\n",
    "############### Graph 작업 완료\n",
    "\n",
    "sess = tf.Session()\n",
    "sess.run(tf.global_variables_initializer())\n",
    "\n",
    "for step in range(21):\n",
    "    _, weight, c = sess.run([update, W, cost],\n",
    "                            feed_dict = {x_train:[1,2,3,4,5],\n",
    "                                         y_train:[1,2,3,4,5]})\n",
    "    print(step, weight, c)\n",
    "    \n",
    "sess.close()"
   ]
  },
  {
   "cell_type": "code",
   "execution_count": 42,
   "metadata": {},
   "outputs": [
    {
     "name": "stdout",
     "output_type": "stream",
     "text": [
      "0 86.44719 [-1.1035098] [-1.3984259]\n",
      "100 86.44719 [-1.1035098] [-1.3984259]\n",
      "200 86.44719 [-1.1035098] [-1.3984259]\n",
      "300 86.44719 [-1.1035098] [-1.3984259]\n",
      "400 86.44719 [-1.1035098] [-1.3984259]\n",
      "500 86.44719 [-1.1035098] [-1.3984259]\n",
      "600 86.44719 [-1.1035098] [-1.3984259]\n",
      "700 86.44719 [-1.1035098] [-1.3984259]\n",
      "800 86.44719 [-1.1035098] [-1.3984259]\n",
      "900 86.44719 [-1.1035098] [-1.3984259]\n",
      "1000 86.44719 [-1.1035098] [-1.3984259]\n",
      "1100 86.44719 [-1.1035098] [-1.3984259]\n",
      "1200 86.44719 [-1.1035098] [-1.3984259]\n",
      "1300 86.44719 [-1.1035098] [-1.3984259]\n",
      "1400 86.44719 [-1.1035098] [-1.3984259]\n",
      "1500 86.44719 [-1.1035098] [-1.3984259]\n",
      "1600 86.44719 [-1.1035098] [-1.3984259]\n",
      "1700 86.44719 [-1.1035098] [-1.3984259]\n",
      "1800 86.44719 [-1.1035098] [-1.3984259]\n",
      "1900 86.44719 [-1.1035098] [-1.3984259]\n",
      "2000 86.44719 [-1.1035098] [-1.3984259]\n"
     ]
    }
   ],
   "source": [
    "######################### 경사하강 알고리즘 객체 사용 #############################\n",
    "\n",
    "# 데이터 준비\n",
    "x_train = tf.placeholder(tf.float32, shape=[None])\n",
    "y_train = tf.placeholder(tf.float32, shape=[None])\n",
    "\n",
    "# W는 1, bias는 1.1\n",
    "W = tf.Variable(tf.random_normal([1]), dtype=tf.float32, name='Weight')\n",
    "b = tf.Variable(tf.random_normal([1]), dtype=tf.float32, name='bias')\n",
    "\n",
    "# 가설 준비(Wx + b)\n",
    "hypot = W * x_train + b\n",
    "\n",
    "# 비용 함수\n",
    "cost = tf.reduce_mean(tf.square(hypot - y_train))\n",
    "\n",
    "# 최저 비용 학습을 위한 경사 하강 알고리즘(Gradient Desent)\n",
    "optimizer = tf.train.GradientDescentOptimizer(learning_rate=0.01)\n",
    "train = optimizer.minimize(cost)\n",
    "\n",
    "############### Graph 작업 완료\n",
    "\n",
    "sess = tf.Session()\n",
    "sess.run(tf.global_variables_initializer())\n",
    "\n",
    "for step in range(2001):\n",
    "    _, c, weight, bias = sess.run([train, cost, W, b],\n",
    "                            feed_dict = {x_train:[1, 2, 3, 4, 5],\n",
    "                                         y_train:[2.1, 3.1, 4.1, 5.1, 6.1]})\n",
    "    \n",
    "    if step % 100 == 0:\n",
    "        print(step, c, weight, bias)\n",
    "    \n",
    "sess.close()"
   ]
  },
  {
   "cell_type": "code",
   "execution_count": 79,
   "metadata": {},
   "outputs": [
    {
     "name": "stdout",
     "output_type": "stream",
     "text": [
      "0 123.31606 [-0.652957] [-2.119943]\n",
      "100 0.6125812 [1.506418] [-0.7283297]\n",
      "200 0.31117138 [1.3609334] [-0.2030842]\n",
      "300 0.15806499 [1.2572438] [0.17126803]\n",
      "400 0.08029187 [1.1833425] [0.43807554]\n",
      "500 0.040785633 [1.1306715] [0.62823427]\n",
      "600 0.02071775 [1.0931319] [0.7637642]\n",
      "700 0.010523917 [1.0663768] [0.86035866]\n",
      "800 0.0053458037 [1.047308] [0.9292032]\n",
      "900 0.0027154938 [1.0337172] [0.97827005]\n",
      "1000 0.0013793816 [1.0240309] [1.0132409]\n",
      "1100 0.00070067565 [1.0171272] [1.0381653]\n",
      "1200 0.00035591016 [1.0122068] [1.0559297]\n",
      "1300 0.00018079345 [1.0087] [1.06859]\n",
      "1400 9.18385e-05 [1.0062007] [1.0776134]\n",
      "1500 4.665282e-05 [1.0044193] [1.0840446]\n",
      "1600 2.3696815e-05 [1.0031497] [1.0886284]\n",
      "1700 1.2038642e-05 [1.0022451] [1.0918946]\n",
      "1800 6.1155342e-06 [1.0016] [1.0942231]\n",
      "1900 3.1064185e-06 [1.0011404] [1.0958829]\n",
      "2000 1.5777312e-06 [1.0008129] [1.0970654]\n"
     ]
    }
   ],
   "source": [
    "# 데이터 준비\n",
    "x_train = tf.placeholder(tf.float32, shape=[None])\n",
    "y_train = tf.placeholder(tf.float32, shape=[None])\n",
    "\n",
    "# W는 1, bias는 1.1\n",
    "W = tf.Variable(tf.random_normal([1]), dtype=tf.float32, name=\"Weight\")\n",
    "b = tf.Variable(tf.random_normal([1]), dtype=tf.float32, name=\"bias\")\n",
    "\n",
    "# 가설 준비\n",
    "hypot = W * x_train + b \n",
    "\n",
    "# 비용 함수\n",
    "cost = tf.reduce_mean(tf.square(hypot - y_train))\n",
    "\n",
    "# 최저 비용 학습을 위한 경사 하강 알고리즘(Gradient Descent)\n",
    "optimizer = tf.train.GradientDescentOptimizer(learning_rate=0.01)\n",
    "train = optimizer.minimize(cost)\n",
    "\n",
    "############### Graph 작업 완료\n",
    "\n",
    "sess = tf.Session()\n",
    "sess.run(tf.global_variables_initializer())\n",
    "\n",
    "for step in range(2001):\n",
    "    _, c, weight, bias = sess.run([train, cost, W, b], \n",
    "                            feed_dict={x_train:[1, 2, 3, 4, 5], \n",
    "                                       y_train:[2.1, 3.1, 4.1, 5.1, 6.1]})\n",
    "\n",
    "    if step % 100 == 0:\n",
    "        print(step, c, weight, bias)"
   ]
  },
  {
   "cell_type": "code",
   "execution_count": 80,
   "metadata": {},
   "outputs": [
    {
     "name": "stdout",
     "output_type": "stream",
     "text": [
      "[28.119013]\n",
      "[3.5990977 4.800073 ]\n"
     ]
    }
   ],
   "source": [
    "# Testing\n",
    "print(sess.run(hypot, feed_dict={x_train:[27]}))\n",
    "print(sess.run(hypot, feed_dict={x_train:[2.5, 3.7]}))"
   ]
  },
  {
   "cell_type": "code",
   "execution_count": 2,
   "metadata": {},
   "outputs": [
    {
     "name": "stdout",
     "output_type": "stream",
     "text": [
      "0 13452760000.0 [10372.566] [2080.213]\n",
      "500 8687798.0 [25537.244] [1951.5586]\n",
      "1000 8633823.0 [25627.467] [1504.7822]\n",
      "1500 8632674.0 [25640.615] [1439.6796]\n",
      "2000 8632649.0 [25642.531] [1430.189]\n",
      "2500 8632654.0 [25642.805] [1428.82]\n",
      "3000 8632656.0 [25642.844] [1428.633]\n"
     ]
    }
   ],
   "source": [
    "# 아래의 데이터를 가지고 하루 시간을 일했을 때 매출액이 얼마인지 예측하시오.\n",
    "x_data = [1,2,3,4,5,6,7]\n",
    "y_data = [25000, 55000, 75000, 110000, 128000, 155000, 180000]\n",
    "\n",
    "# 데이터 준비\n",
    "X = tf.placeholder(tf.float32, shape=[None])\n",
    "y = tf.placeholder(tf.float32, shape=[None])\n",
    "\n",
    "W = tf.Variable(tf.random_normal([1]), dtype = tf.float32, name=\"Weight\")\n",
    "b = tf.Variable(tf.random_normal([1]), dtype = tf.float32, name=\"bias\")\n",
    "\n",
    "# 가설 준비\n",
    "hypot = W * X + b\n",
    "\n",
    "# 비용 함수\n",
    "cost = tf.reduce_mean(tf.square(hypot - y))\n",
    "\n",
    "# 최저 비용 학습을 위한 경사 하강 알고리즘(Gradient Descent)\n",
    "optimizer = tf.train.GradientDescentOptimizer(learning_rate=0.01)\n",
    "train = optimizer.minimize(cost)\n",
    "\n",
    "############### Graph 작업 완료\n",
    "\n",
    "sess = tf.Session()\n",
    "sess.run(tf.global_variables_initializer())\n",
    "\n",
    "for step in range(3001):\n",
    "    _, c, weight, bias = sess.run([train, cost, W, b],\n",
    "                                 feed_dict={X:x_data, y:y_data})\n",
    "    \n",
    "    if step % 500 == 0:\n",
    "        print(step, c, weight, bias)"
   ]
  },
  {
   "cell_type": "code",
   "execution_count": 3,
   "metadata": {},
   "outputs": [
    {
     "name": "stdout",
     "output_type": "stream",
     "text": [
      "[206571.39]\n"
     ]
    }
   ],
   "source": [
    "print(sess.run(hypot, feed_dict={X:[8]}))\n",
    "sess.close()"
   ]
  },
  {
   "cell_type": "markdown",
   "metadata": {},
   "source": [
    "### 다중 선형 회귀 모델"
   ]
  },
  {
   "cell_type": "code",
   "execution_count": 50,
   "metadata": {},
   "outputs": [],
   "source": [
    "x1_data = [32.,93., 89.,96.,73.]\n",
    "x2_data = [80.,88., 91.,98.,66.]\n",
    "x3_data = [75.,93.,90.,100.,70.]\n",
    "y_data = [152.,185., 180.,196.,142.]"
   ]
  },
  {
   "cell_type": "markdown",
   "metadata": {},
   "source": [
    "#### 1) 단순하게 처리하는 경우"
   ]
  },
  {
   "cell_type": "code",
   "execution_count": 51,
   "metadata": {},
   "outputs": [],
   "source": [
    "X1 = tf.placeholder(tf.float32, shape=[None])\n",
    "X2 = tf.placeholder(tf.float32, shape=[None])\n",
    "X3 = tf.placeholder(tf.float32, shape=[None])\n",
    "\n",
    "y = tf.placeholder(tf.float32, shape=[None])\n",
    "\n",
    "W1 = tf.Variable(tf.random_normal([1]), name='weight1')\n",
    "W2 = tf.Variable(tf.random_normal([1]), name='weight2')\n",
    "W3 = tf.Variable(tf.random_normal([1]), name='weight3')\n",
    "b = tf.Variable(tf.random_normal([1]), name='bias')\n",
    "\n",
    "# 가설 설정\n",
    "hypot = W1*X1 + W2*X2 + W3*X3 + b\n",
    "\n",
    "# 비용 함수\n",
    "cost = tf.reduce_mean(tf.square((hypot - y)))\n",
    "\n",
    "\n",
    "# 최소 비용 계산\n",
    "train = tf.train.GradientDescentOptimizer(learning_rate=1e-5).minimize(cost)"
   ]
  },
  {
   "cell_type": "code",
   "execution_count": 52,
   "metadata": {},
   "outputs": [
    {
     "name": "stdout",
     "output_type": "stream",
     "text": [
      "0 41727.688 [ -1.1664314 -40.08628   -39.16159   -40.608463  -32.64044  ]\n",
      "500 6.1639886 [151.34918 183.66347 181.18011 199.39265 138.03676]\n",
      "1000 6.0938616 [151.21725 183.72324 181.15726 199.40538 138.08968]\n",
      "1500 6.0309095 [151.21223 183.75159 181.11888 199.40361 138.10912]\n",
      "2000 5.9699507 [151.21666 183.77718 181.07993 199.40079 138.12582]\n",
      "2500 5.910994 [151.22171 183.80219 181.04155 199.39795 138.14207]\n",
      "3000 5.853888 [151.22678 183.8268  181.0038  199.39516 138.15807]\n",
      "3500 5.7986174 [151.23169 183.85097 180.96666 199.39236 138.17378]\n",
      "4000 5.7450943 [151.2366  183.87476 180.93013 199.38965 138.18927]\n",
      "4500 5.693339 [151.24136 183.89813 180.8942  199.38696 138.20448]\n",
      "5000 5.643164 [151.2461  183.92114 180.85887 199.38431 138.21948]\n",
      "5500 5.594636 [151.25073 183.94376 180.82411 199.3817  138.23422]\n",
      "6000 5.5476313 [151.2553  183.966   180.78992 199.37912 138.24873]\n",
      "6500 5.502118 [151.25981 183.98792 180.75632 199.3766  138.26303]\n",
      "7000 5.458089 [151.26422 184.00943 180.72325 199.37411 138.27708]\n",
      "7500 5.4154334 [151.26857 184.0306  180.69072 199.37164 138.29091]\n",
      "8000 5.3741336 [151.27286 184.05142 180.65874 199.36922 138.30452]\n",
      "8500 5.3341675 [151.27705 184.07188 180.62726 199.36682 138.3179 ]\n"
     ]
    }
   ],
   "source": [
    "with tf.Session() as sess:\n",
    "    sess.run(tf.global_variables_initializer())\n",
    "    \n",
    "    for step in range(9000):\n",
    "       _, c, h = sess.run([train,cost,hypot],\n",
    "                 feed_dict={X1:x1_data, X2:x2_data, X3:x3_data, y:y_data})\n",
    "    \n",
    "       if step%500 == 0:\n",
    "            print(step, c, h)"
   ]
  },
  {
   "cell_type": "markdown",
   "metadata": {},
   "source": [
    "#### 2) Matrix로 처리하는 경우"
   ]
  },
  {
   "cell_type": "code",
   "execution_count": 76,
   "metadata": {},
   "outputs": [],
   "source": [
    "x_data = [[73., 80., 75.],\n",
    "          [93., 88., 93.],\n",
    "          [89., 91., 90.],\n",
    "          [96., 98., 100.],\n",
    "          [73., 66., 70.]]\n",
    "\n",
    "y_data = [[152.], \n",
    "          [185.], \n",
    "          [180.], \n",
    "          [196.], \n",
    "          [142,]]"
   ]
  },
  {
   "cell_type": "code",
   "execution_count": 77,
   "metadata": {},
   "outputs": [],
   "source": [
    "X = tf.placeholder(tf.float32, shape=[None, 3])\n",
    "y = tf.placeholder(tf.float32, shape=[5, 1])\n",
    "\n",
    "W = tf.Variable(tf.random_normal([3, 1]), name='weight') # X와 y를 보고 잡기 (뒤에 3이랑 1)\n",
    "b = tf.Variable(tf.random_normal([1]), name='bias')\n",
    "\n",
    "# 가설 설정\n",
    "hypot = tf.matmul(X,W) + b\n",
    "\n",
    "# 비용 함수\n",
    "cost = tf.reduce_mean(tf.square((hypot - y)))\n",
    "\n",
    "# 최소 비용 계산\n",
    "train = tf.train.GradientDescentOptimizer(learning_rate=1e-5).minimize(cost)"
   ]
  },
  {
   "cell_type": "code",
   "execution_count": 78,
   "metadata": {},
   "outputs": [
    {
     "name": "stdout",
     "output_type": "stream",
     "text": [
      "0 133155.73\n",
      "500 1.8887007\n",
      "1000 1.6843526\n",
      "1500 1.5236897\n",
      "2000 1.3964812\n",
      "2500 1.294886\n",
      "3000 1.2129333\n",
      "3500 1.1460581\n",
      "4000 1.090813\n",
      "4500 1.0445116\n",
      "5000 1.0051736\n",
      "5500 0.9711753\n",
      "6000 0.9413894\n",
      "6500 0.91490966\n",
      "7000 0.8910445\n",
      "7500 0.8692485\n",
      "8000 0.8491106\n",
      "8500 0.8303415\n",
      "[[152.3419 ]\n",
      " [184.22673]\n",
      " [181.19156]\n",
      " [194.82973]\n",
      " [142.74788]]\n"
     ]
    }
   ],
   "source": [
    "with tf.Session() as sess:\n",
    "    sess.run(tf.global_variables_initializer())\n",
    "    \n",
    "    for step in range(9000):\n",
    "        _, c, h = sess.run([train, cost, hypot], feed_dict={X:x_data, y:y_data})\n",
    "        \n",
    "        if step % 500 == 0:\n",
    "            print(step, c)\n",
    "        \n",
    "    print(h)"
   ]
  },
  {
   "cell_type": "code",
   "execution_count": null,
   "metadata": {},
   "outputs": [],
   "source": [
    "# 메모리 (대용량 데이터 처리)\n",
    "# 1. Quenue : LIFO(Last Input First Output)\n",
    "#            데이터 넣을 때 enqueue\n",
    "#            데이터 뺄 때 dequeue\n",
    "# 2. Stack : FIFO(First Input First Output) 먼저 들어간게 먼저 나온다."
   ]
  },
  {
   "cell_type": "markdown",
   "metadata": {},
   "source": [
    "### DASK\n",
    "\n",
    "+ 가상의 데이터프레임\n",
    "+ 병렬 처리용 작업 스케줄러"
   ]
  },
  {
   "cell_type": "code",
   "execution_count": 55,
   "metadata": {},
   "outputs": [
    {
     "name": "stdout",
     "output_type": "stream",
     "text": [
      "Writing C:/Users/user/Documents/jun/AI/sample1.csv\n"
     ]
    }
   ],
   "source": [
    "%%writefile 'C:/Users/user/Documents/jun/AI/sample1.csv'\n",
    "c1, c2, c3\n",
    "1, 1.11, one\n",
    "2, 2.22, two\n",
    "3, 3.33, three"
   ]
  },
  {
   "cell_type": "code",
   "execution_count": 56,
   "metadata": {},
   "outputs": [
    {
     "data": {
      "text/plain": [
       "2.22"
      ]
     },
     "execution_count": 56,
     "metadata": {},
     "output_type": "execute_result"
    }
   ],
   "source": [
    "df1 = pd.read_csv('C:/Users/user/Documents/jun/AI/sample1.csv')\n",
    "df1\n",
    "df1[\" c2\"].mean()"
   ]
  },
  {
   "cell_type": "code",
   "execution_count": 57,
   "metadata": {},
   "outputs": [],
   "source": [
    "import dask.dataframe as dd"
   ]
  },
  {
   "cell_type": "code",
   "execution_count": 58,
   "metadata": {},
   "outputs": [
    {
     "data": {
      "text/html": [
       "<div><strong>Dask DataFrame Structure:</strong></div>\n",
       "<div>\n",
       "<style scoped>\n",
       "    .dataframe tbody tr th:only-of-type {\n",
       "        vertical-align: middle;\n",
       "    }\n",
       "\n",
       "    .dataframe tbody tr th {\n",
       "        vertical-align: top;\n",
       "    }\n",
       "\n",
       "    .dataframe thead th {\n",
       "        text-align: right;\n",
       "    }\n",
       "</style>\n",
       "<table border=\"1\" class=\"dataframe\">\n",
       "  <thead>\n",
       "    <tr style=\"text-align: right;\">\n",
       "      <th></th>\n",
       "      <th>c1</th>\n",
       "      <th>c2</th>\n",
       "      <th>c3</th>\n",
       "    </tr>\n",
       "    <tr>\n",
       "      <th>npartitions=1</th>\n",
       "      <th></th>\n",
       "      <th></th>\n",
       "      <th></th>\n",
       "    </tr>\n",
       "  </thead>\n",
       "  <tbody>\n",
       "    <tr>\n",
       "      <th></th>\n",
       "      <td>int64</td>\n",
       "      <td>float64</td>\n",
       "      <td>object</td>\n",
       "    </tr>\n",
       "    <tr>\n",
       "      <th></th>\n",
       "      <td>...</td>\n",
       "      <td>...</td>\n",
       "      <td>...</td>\n",
       "    </tr>\n",
       "  </tbody>\n",
       "</table>\n",
       "</div>\n",
       "<div>Dask Name: read-csv, 1 tasks</div>"
      ],
      "text/plain": [
       "Dask DataFrame Structure:\n",
       "                  c1       c2      c3\n",
       "npartitions=1                        \n",
       "               int64  float64  object\n",
       "                 ...      ...     ...\n",
       "Dask Name: read-csv, 1 tasks"
      ]
     },
     "execution_count": 58,
     "metadata": {},
     "output_type": "execute_result"
    }
   ],
   "source": [
    "df2 = dd.read_csv('C:/Users/user/Documents/jun/AI/sample1.csv')\n",
    "df2\n",
    "# 데이터의 메타정보만 읽어옴"
   ]
  },
  {
   "cell_type": "code",
   "execution_count": 59,
   "metadata": {},
   "outputs": [
    {
     "name": "stderr",
     "output_type": "stream",
     "text": [
      "C:\\Users\\user\\anaconda3\\envs\\tf1\\lib\\site-packages\\dask\\dataframe\\core.py:6194: UserWarning: Insufficient elements for `head`. 5 elements requested, only 3 elements available. Try passing larger `npartitions` to `head`.\n",
      "  warnings.warn(msg.format(n, len(r)))\n"
     ]
    },
    {
     "data": {
      "text/html": [
       "<div>\n",
       "<style scoped>\n",
       "    .dataframe tbody tr th:only-of-type {\n",
       "        vertical-align: middle;\n",
       "    }\n",
       "\n",
       "    .dataframe tbody tr th {\n",
       "        vertical-align: top;\n",
       "    }\n",
       "\n",
       "    .dataframe thead th {\n",
       "        text-align: right;\n",
       "    }\n",
       "</style>\n",
       "<table border=\"1\" class=\"dataframe\">\n",
       "  <thead>\n",
       "    <tr style=\"text-align: right;\">\n",
       "      <th></th>\n",
       "      <th>c1</th>\n",
       "      <th>c2</th>\n",
       "      <th>c3</th>\n",
       "    </tr>\n",
       "  </thead>\n",
       "  <tbody>\n",
       "    <tr>\n",
       "      <th>0</th>\n",
       "      <td>1</td>\n",
       "      <td>1.11</td>\n",
       "      <td>one</td>\n",
       "    </tr>\n",
       "    <tr>\n",
       "      <th>1</th>\n",
       "      <td>2</td>\n",
       "      <td>2.22</td>\n",
       "      <td>two</td>\n",
       "    </tr>\n",
       "    <tr>\n",
       "      <th>2</th>\n",
       "      <td>3</td>\n",
       "      <td>3.33</td>\n",
       "      <td>three</td>\n",
       "    </tr>\n",
       "  </tbody>\n",
       "</table>\n",
       "</div>"
      ],
      "text/plain": [
       "   c1    c2      c3\n",
       "0   1  1.11     one\n",
       "1   2  2.22     two\n",
       "2   3  3.33   three"
      ]
     },
     "execution_count": 59,
     "metadata": {},
     "output_type": "execute_result"
    }
   ],
   "source": [
    "df2.head()"
   ]
  },
  {
   "cell_type": "code",
   "execution_count": 60,
   "metadata": {},
   "outputs": [
    {
     "data": {
      "text/plain": [
       "2.22"
      ]
     },
     "execution_count": 60,
     "metadata": {},
     "output_type": "execute_result"
    }
   ],
   "source": [
    "df2[' c2'].mean() # 형식만 준비\n",
    "df2[' c2'].mean().compute()"
   ]
  },
  {
   "cell_type": "code",
   "execution_count": 61,
   "metadata": {},
   "outputs": [
    {
     "data": {
      "text/html": [
       "<div><strong>Dask DataFrame Structure:</strong></div>\n",
       "<div>\n",
       "<style scoped>\n",
       "    .dataframe tbody tr th:only-of-type {\n",
       "        vertical-align: middle;\n",
       "    }\n",
       "\n",
       "    .dataframe tbody tr th {\n",
       "        vertical-align: top;\n",
       "    }\n",
       "\n",
       "    .dataframe thead th {\n",
       "        text-align: right;\n",
       "    }\n",
       "</style>\n",
       "<table border=\"1\" class=\"dataframe\">\n",
       "  <thead>\n",
       "    <tr style=\"text-align: right;\">\n",
       "      <th></th>\n",
       "      <th>ID</th>\n",
       "      <th>Case Number</th>\n",
       "      <th>Date</th>\n",
       "      <th>Block</th>\n",
       "      <th>IUCR</th>\n",
       "      <th>Primary Type</th>\n",
       "      <th>Description</th>\n",
       "      <th>Location Description</th>\n",
       "      <th>Arrest</th>\n",
       "      <th>Domestic</th>\n",
       "      <th>Beat</th>\n",
       "      <th>District</th>\n",
       "      <th>Ward</th>\n",
       "      <th>Community Area</th>\n",
       "      <th>FBI Code</th>\n",
       "      <th>X Coordinate</th>\n",
       "      <th>Y Coordinate</th>\n",
       "      <th>Year</th>\n",
       "      <th>Updated On</th>\n",
       "      <th>Latitude</th>\n",
       "      <th>Longitude</th>\n",
       "      <th>Location</th>\n",
       "      <th>Historical Wards 2003-2015</th>\n",
       "      <th>Zip Codes</th>\n",
       "      <th>Community Areas</th>\n",
       "      <th>Census Tracts</th>\n",
       "      <th>Wards</th>\n",
       "      <th>Boundaries - ZIP Codes</th>\n",
       "      <th>Police Districts</th>\n",
       "      <th>Police Beats</th>\n",
       "    </tr>\n",
       "    <tr>\n",
       "      <th>npartitions=29</th>\n",
       "      <th></th>\n",
       "      <th></th>\n",
       "      <th></th>\n",
       "      <th></th>\n",
       "      <th></th>\n",
       "      <th></th>\n",
       "      <th></th>\n",
       "      <th></th>\n",
       "      <th></th>\n",
       "      <th></th>\n",
       "      <th></th>\n",
       "      <th></th>\n",
       "      <th></th>\n",
       "      <th></th>\n",
       "      <th></th>\n",
       "      <th></th>\n",
       "      <th></th>\n",
       "      <th></th>\n",
       "      <th></th>\n",
       "      <th></th>\n",
       "      <th></th>\n",
       "      <th></th>\n",
       "      <th></th>\n",
       "      <th></th>\n",
       "      <th></th>\n",
       "      <th></th>\n",
       "      <th></th>\n",
       "      <th></th>\n",
       "      <th></th>\n",
       "      <th></th>\n",
       "    </tr>\n",
       "  </thead>\n",
       "  <tbody>\n",
       "    <tr>\n",
       "      <th></th>\n",
       "      <td>object</td>\n",
       "      <td>object</td>\n",
       "      <td>object</td>\n",
       "      <td>object</td>\n",
       "      <td>object</td>\n",
       "      <td>object</td>\n",
       "      <td>object</td>\n",
       "      <td>object</td>\n",
       "      <td>object</td>\n",
       "      <td>object</td>\n",
       "      <td>object</td>\n",
       "      <td>object</td>\n",
       "      <td>object</td>\n",
       "      <td>object</td>\n",
       "      <td>object</td>\n",
       "      <td>object</td>\n",
       "      <td>object</td>\n",
       "      <td>object</td>\n",
       "      <td>object</td>\n",
       "      <td>object</td>\n",
       "      <td>object</td>\n",
       "      <td>object</td>\n",
       "      <td>object</td>\n",
       "      <td>object</td>\n",
       "      <td>object</td>\n",
       "      <td>object</td>\n",
       "      <td>object</td>\n",
       "      <td>object</td>\n",
       "      <td>object</td>\n",
       "      <td>object</td>\n",
       "    </tr>\n",
       "    <tr>\n",
       "      <th></th>\n",
       "      <td>...</td>\n",
       "      <td>...</td>\n",
       "      <td>...</td>\n",
       "      <td>...</td>\n",
       "      <td>...</td>\n",
       "      <td>...</td>\n",
       "      <td>...</td>\n",
       "      <td>...</td>\n",
       "      <td>...</td>\n",
       "      <td>...</td>\n",
       "      <td>...</td>\n",
       "      <td>...</td>\n",
       "      <td>...</td>\n",
       "      <td>...</td>\n",
       "      <td>...</td>\n",
       "      <td>...</td>\n",
       "      <td>...</td>\n",
       "      <td>...</td>\n",
       "      <td>...</td>\n",
       "      <td>...</td>\n",
       "      <td>...</td>\n",
       "      <td>...</td>\n",
       "      <td>...</td>\n",
       "      <td>...</td>\n",
       "      <td>...</td>\n",
       "      <td>...</td>\n",
       "      <td>...</td>\n",
       "      <td>...</td>\n",
       "      <td>...</td>\n",
       "      <td>...</td>\n",
       "    </tr>\n",
       "    <tr>\n",
       "      <th>...</th>\n",
       "      <td>...</td>\n",
       "      <td>...</td>\n",
       "      <td>...</td>\n",
       "      <td>...</td>\n",
       "      <td>...</td>\n",
       "      <td>...</td>\n",
       "      <td>...</td>\n",
       "      <td>...</td>\n",
       "      <td>...</td>\n",
       "      <td>...</td>\n",
       "      <td>...</td>\n",
       "      <td>...</td>\n",
       "      <td>...</td>\n",
       "      <td>...</td>\n",
       "      <td>...</td>\n",
       "      <td>...</td>\n",
       "      <td>...</td>\n",
       "      <td>...</td>\n",
       "      <td>...</td>\n",
       "      <td>...</td>\n",
       "      <td>...</td>\n",
       "      <td>...</td>\n",
       "      <td>...</td>\n",
       "      <td>...</td>\n",
       "      <td>...</td>\n",
       "      <td>...</td>\n",
       "      <td>...</td>\n",
       "      <td>...</td>\n",
       "      <td>...</td>\n",
       "      <td>...</td>\n",
       "    </tr>\n",
       "    <tr>\n",
       "      <th></th>\n",
       "      <td>...</td>\n",
       "      <td>...</td>\n",
       "      <td>...</td>\n",
       "      <td>...</td>\n",
       "      <td>...</td>\n",
       "      <td>...</td>\n",
       "      <td>...</td>\n",
       "      <td>...</td>\n",
       "      <td>...</td>\n",
       "      <td>...</td>\n",
       "      <td>...</td>\n",
       "      <td>...</td>\n",
       "      <td>...</td>\n",
       "      <td>...</td>\n",
       "      <td>...</td>\n",
       "      <td>...</td>\n",
       "      <td>...</td>\n",
       "      <td>...</td>\n",
       "      <td>...</td>\n",
       "      <td>...</td>\n",
       "      <td>...</td>\n",
       "      <td>...</td>\n",
       "      <td>...</td>\n",
       "      <td>...</td>\n",
       "      <td>...</td>\n",
       "      <td>...</td>\n",
       "      <td>...</td>\n",
       "      <td>...</td>\n",
       "      <td>...</td>\n",
       "      <td>...</td>\n",
       "    </tr>\n",
       "    <tr>\n",
       "      <th></th>\n",
       "      <td>...</td>\n",
       "      <td>...</td>\n",
       "      <td>...</td>\n",
       "      <td>...</td>\n",
       "      <td>...</td>\n",
       "      <td>...</td>\n",
       "      <td>...</td>\n",
       "      <td>...</td>\n",
       "      <td>...</td>\n",
       "      <td>...</td>\n",
       "      <td>...</td>\n",
       "      <td>...</td>\n",
       "      <td>...</td>\n",
       "      <td>...</td>\n",
       "      <td>...</td>\n",
       "      <td>...</td>\n",
       "      <td>...</td>\n",
       "      <td>...</td>\n",
       "      <td>...</td>\n",
       "      <td>...</td>\n",
       "      <td>...</td>\n",
       "      <td>...</td>\n",
       "      <td>...</td>\n",
       "      <td>...</td>\n",
       "      <td>...</td>\n",
       "      <td>...</td>\n",
       "      <td>...</td>\n",
       "      <td>...</td>\n",
       "      <td>...</td>\n",
       "      <td>...</td>\n",
       "    </tr>\n",
       "  </tbody>\n",
       "</table>\n",
       "</div>\n",
       "<div>Dask Name: read-csv, 29 tasks</div>"
      ],
      "text/plain": [
       "Dask DataFrame Structure:\n",
       "                    ID Case Number    Date   Block    IUCR Primary Type Description Location Description  Arrest Domestic    Beat District    Ward Community Area FBI Code X Coordinate Y Coordinate    Year Updated On Latitude Longitude Location Historical Wards 2003-2015 Zip Codes Community Areas Census Tracts   Wards Boundaries - ZIP Codes Police Districts Police Beats\n",
       "npartitions=29                                                                                                                                                                                                                                                                                                                                                                     \n",
       "                object      object  object  object  object       object      object               object  object   object  object   object  object         object   object       object       object  object     object   object    object   object                     object    object          object        object  object                 object           object       object\n",
       "                   ...         ...     ...     ...     ...          ...         ...                  ...     ...      ...     ...      ...     ...            ...      ...          ...          ...     ...        ...      ...       ...      ...                        ...       ...             ...           ...     ...                    ...              ...          ...\n",
       "...                ...         ...     ...     ...     ...          ...         ...                  ...     ...      ...     ...      ...     ...            ...      ...          ...          ...     ...        ...      ...       ...      ...                        ...       ...             ...           ...     ...                    ...              ...          ...\n",
       "                   ...         ...     ...     ...     ...          ...         ...                  ...     ...      ...     ...      ...     ...            ...      ...          ...          ...     ...        ...      ...       ...      ...                        ...       ...             ...           ...     ...                    ...              ...          ...\n",
       "                   ...         ...     ...     ...     ...          ...         ...                  ...     ...      ...     ...      ...     ...            ...      ...          ...          ...     ...        ...      ...       ...      ...                        ...       ...             ...           ...     ...                    ...              ...          ...\n",
       "Dask Name: read-csv, 29 tasks"
      ]
     },
     "execution_count": 61,
     "metadata": {},
     "output_type": "execute_result"
    }
   ],
   "source": [
    "df3 = dd.read_csv('C:/Users/user/Documents/jun/AI/crime.csv', dtype=str, error_bad_lines=False, warn_bad_lines=False)\n",
    "\n",
    "df3"
   ]
  },
  {
   "cell_type": "code",
   "execution_count": 62,
   "metadata": {},
   "outputs": [
    {
     "data": {
      "text/plain": [
       "ID                            6954279\n",
       "Case Number                   6954275\n",
       "Date                          6954279\n",
       "Block                         6954279\n",
       "IUCR                          6954279\n",
       "Primary Type                  6954279\n",
       "Description                   6954279\n",
       "Location Description          6948835\n",
       "Arrest                        6954279\n",
       "Domestic                      6954279\n",
       "Beat                          6954279\n",
       "District                      6954232\n",
       "Ward                          6339453\n",
       "Community Area                6340784\n",
       "FBI Code                      6954279\n",
       "X Coordinate                  6888372\n",
       "Y Coordinate                  6888372\n",
       "Year                          6954279\n",
       "Updated On                    6954279\n",
       "Latitude                      6888372\n",
       "Longitude                     6888372\n",
       "Location                      6888372\n",
       "Historical Wards 2003-2015    6868367\n",
       "Zip Codes                     6888372\n",
       "Community Areas               6871115\n",
       "Census Tracts                 6873256\n",
       "Wards                         6871227\n",
       "Boundaries - ZIP Codes        6871162\n",
       "Police Districts              6872194\n",
       "Police Beats                  6872217\n",
       "dtype: int64"
      ]
     },
     "execution_count": 62,
     "metadata": {},
     "output_type": "execute_result"
    }
   ],
   "source": [
    "df3.head()\n",
    "df3.tail()\n",
    "df3.count().compute()"
   ]
  },
  {
   "cell_type": "code",
   "execution_count": 63,
   "metadata": {},
   "outputs": [],
   "source": [
    "from dask.diagnostics import ProgressBar\n",
    "pbar=ProgressBar()\n",
    "pbar.register()\n"
   ]
  },
  {
   "cell_type": "code",
   "execution_count": 64,
   "metadata": {},
   "outputs": [
    {
     "name": "stdout",
     "output_type": "stream",
     "text": [
      "[########################################] | 100% Completed |  1min 16.8s\n",
      "Wall time: 1min 16s\n"
     ]
    },
    {
     "data": {
      "text/plain": [
       "ID                            6954279\n",
       "Case Number                   6954275\n",
       "Date                          6954279\n",
       "Block                         6954279\n",
       "IUCR                          6954279\n",
       "Primary Type                  6954279\n",
       "Description                   6954279\n",
       "Location Description          6948835\n",
       "Arrest                        6954279\n",
       "Domestic                      6954279\n",
       "Beat                          6954279\n",
       "District                      6954232\n",
       "Ward                          6339453\n",
       "Community Area                6340784\n",
       "FBI Code                      6954279\n",
       "X Coordinate                  6888372\n",
       "Y Coordinate                  6888372\n",
       "Year                          6954279\n",
       "Updated On                    6954279\n",
       "Latitude                      6888372\n",
       "Longitude                     6888372\n",
       "Location                      6888372\n",
       "Historical Wards 2003-2015    6868367\n",
       "Zip Codes                     6888372\n",
       "Community Areas               6871115\n",
       "Census Tracts                 6873256\n",
       "Wards                         6871227\n",
       "Boundaries - ZIP Codes        6871162\n",
       "Police Districts              6872194\n",
       "Police Beats                  6872217\n",
       "dtype: int64"
      ]
     },
     "execution_count": 64,
     "metadata": {},
     "output_type": "execute_result"
    }
   ],
   "source": [
    "%%time\n",
    "df3.count().compute()"
   ]
  },
  {
   "cell_type": "code",
   "execution_count": 65,
   "metadata": {},
   "outputs": [
    {
     "name": "stdout",
     "output_type": "stream",
     "text": [
      "[########################################] | 100% Completed | 57.8s\n",
      "Wall time: 58.2 s\n"
     ]
    },
    {
     "data": {
      "text/plain": [
       "ID                            6954279\n",
       "Case Number                   6954275\n",
       "Date                          6954279\n",
       "Block                         6954279\n",
       "IUCR                          6954279\n",
       "Primary Type                  6954279\n",
       "Description                   6954279\n",
       "Location Description          6948835\n",
       "Arrest                        6954279\n",
       "Domestic                      6954279\n",
       "Beat                          6954279\n",
       "District                      6954232\n",
       "Ward                          6339453\n",
       "Community Area                6340784\n",
       "FBI Code                      6954279\n",
       "X Coordinate                  6888372\n",
       "Y Coordinate                  6888372\n",
       "Year                          6954279\n",
       "Updated On                    6954279\n",
       "Latitude                      6888372\n",
       "Longitude                     6888372\n",
       "Location                      6888372\n",
       "Historical Wards 2003-2015    6868367\n",
       "Zip Codes                     6888372\n",
       "Community Areas               6871115\n",
       "Census Tracts                 6873256\n",
       "Wards                         6871227\n",
       "Boundaries - ZIP Codes        6871162\n",
       "Police Districts              6872194\n",
       "Police Beats                  6872217\n",
       "dtype: int64"
      ]
     },
     "execution_count": 65,
     "metadata": {},
     "output_type": "execute_result"
    }
   ],
   "source": [
    "%%time\n",
    "df3.count().compute(scheduler=\"processes\", num_workers=8)"
   ]
  },
  {
   "cell_type": "code",
   "execution_count": 66,
   "metadata": {},
   "outputs": [
    {
     "name": "stdout",
     "output_type": "stream",
     "text": [
      "[########################################] | 100% Completed |  0.1s\n",
      "Wall time: 115 ms\n"
     ]
    },
    {
     "data": {
      "text/plain": [
       "0    4\n",
       "1    5\n",
       "2    6\n",
       "Name: c1, dtype: int64"
      ]
     },
     "execution_count": 66,
     "metadata": {},
     "output_type": "execute_result"
    }
   ],
   "source": [
    "%%time\n",
    "(df2['c1'] + 3).compute()"
   ]
  },
  {
   "cell_type": "code",
   "execution_count": 67,
   "metadata": {},
   "outputs": [],
   "source": [
    "# c1 = df2['c1'] - 3\n",
    "# df2 = c1\n",
    "\n",
    "# df2 = de2['c1'] - 3\n",
    "df2 = df2.assign(c1 = df2['c1'] - 3)"
   ]
  },
  {
   "cell_type": "code",
   "execution_count": 68,
   "metadata": {},
   "outputs": [
    {
     "name": "stdout",
     "output_type": "stream",
     "text": [
      "[########################################] | 100% Completed |  0.1s\n"
     ]
    },
    {
     "name": "stderr",
     "output_type": "stream",
     "text": [
      "C:\\Users\\user\\anaconda3\\envs\\tf1\\lib\\site-packages\\dask\\dataframe\\core.py:6194: UserWarning: Insufficient elements for `head`. 5 elements requested, only 3 elements available. Try passing larger `npartitions` to `head`.\n",
      "  warnings.warn(msg.format(n, len(r)))\n"
     ]
    },
    {
     "data": {
      "text/html": [
       "<div>\n",
       "<style scoped>\n",
       "    .dataframe tbody tr th:only-of-type {\n",
       "        vertical-align: middle;\n",
       "    }\n",
       "\n",
       "    .dataframe tbody tr th {\n",
       "        vertical-align: top;\n",
       "    }\n",
       "\n",
       "    .dataframe thead th {\n",
       "        text-align: right;\n",
       "    }\n",
       "</style>\n",
       "<table border=\"1\" class=\"dataframe\">\n",
       "  <thead>\n",
       "    <tr style=\"text-align: right;\">\n",
       "      <th></th>\n",
       "      <th>c1</th>\n",
       "      <th>c2</th>\n",
       "      <th>c3</th>\n",
       "    </tr>\n",
       "  </thead>\n",
       "  <tbody>\n",
       "    <tr>\n",
       "      <th>0</th>\n",
       "      <td>-2</td>\n",
       "      <td>1.11</td>\n",
       "      <td>one</td>\n",
       "    </tr>\n",
       "    <tr>\n",
       "      <th>1</th>\n",
       "      <td>-1</td>\n",
       "      <td>2.22</td>\n",
       "      <td>two</td>\n",
       "    </tr>\n",
       "    <tr>\n",
       "      <th>2</th>\n",
       "      <td>0</td>\n",
       "      <td>3.33</td>\n",
       "      <td>three</td>\n",
       "    </tr>\n",
       "  </tbody>\n",
       "</table>\n",
       "</div>"
      ],
      "text/plain": [
       "   c1    c2      c3\n",
       "0  -2  1.11     one\n",
       "1  -1  2.22     two\n",
       "2   0  3.33   three"
      ]
     },
     "execution_count": 68,
     "metadata": {},
     "output_type": "execute_result"
    }
   ],
   "source": [
    "df2.head()"
   ]
  },
  {
   "cell_type": "code",
   "execution_count": 69,
   "metadata": {},
   "outputs": [],
   "source": [
    "########### 새로운 컬럼 추가\n",
    "df2 = df2.assign(title=df2['c1'].astype(str) + '%')"
   ]
  },
  {
   "cell_type": "code",
   "execution_count": 70,
   "metadata": {},
   "outputs": [
    {
     "name": "stdout",
     "output_type": "stream",
     "text": [
      "[########################################] | 100% Completed |  0.1s\n"
     ]
    },
    {
     "name": "stderr",
     "output_type": "stream",
     "text": [
      "C:\\Users\\user\\anaconda3\\envs\\tf1\\lib\\site-packages\\dask\\dataframe\\core.py:6194: UserWarning: Insufficient elements for `head`. 5 elements requested, only 3 elements available. Try passing larger `npartitions` to `head`.\n",
      "  warnings.warn(msg.format(n, len(r)))\n"
     ]
    },
    {
     "data": {
      "text/html": [
       "<div>\n",
       "<style scoped>\n",
       "    .dataframe tbody tr th:only-of-type {\n",
       "        vertical-align: middle;\n",
       "    }\n",
       "\n",
       "    .dataframe tbody tr th {\n",
       "        vertical-align: top;\n",
       "    }\n",
       "\n",
       "    .dataframe thead th {\n",
       "        text-align: right;\n",
       "    }\n",
       "</style>\n",
       "<table border=\"1\" class=\"dataframe\">\n",
       "  <thead>\n",
       "    <tr style=\"text-align: right;\">\n",
       "      <th></th>\n",
       "      <th>c1</th>\n",
       "      <th>c2</th>\n",
       "      <th>c3</th>\n",
       "      <th>title</th>\n",
       "    </tr>\n",
       "  </thead>\n",
       "  <tbody>\n",
       "    <tr>\n",
       "      <th>0</th>\n",
       "      <td>-2</td>\n",
       "      <td>1.11</td>\n",
       "      <td>one</td>\n",
       "      <td>-2%</td>\n",
       "    </tr>\n",
       "    <tr>\n",
       "      <th>1</th>\n",
       "      <td>-1</td>\n",
       "      <td>2.22</td>\n",
       "      <td>two</td>\n",
       "      <td>-1%</td>\n",
       "    </tr>\n",
       "    <tr>\n",
       "      <th>2</th>\n",
       "      <td>0</td>\n",
       "      <td>3.33</td>\n",
       "      <td>three</td>\n",
       "      <td>0%</td>\n",
       "    </tr>\n",
       "  </tbody>\n",
       "</table>\n",
       "</div>"
      ],
      "text/plain": [
       "   c1    c2      c3 title\n",
       "0  -2  1.11     one   -2%\n",
       "1  -1  2.22     two   -1%\n",
       "2   0  3.33   three    0%"
      ]
     },
     "execution_count": 70,
     "metadata": {},
     "output_type": "execute_result"
    }
   ],
   "source": [
    "df2.head()"
   ]
  },
  {
   "cell_type": "code",
   "execution_count": 71,
   "metadata": {},
   "outputs": [],
   "source": [
    "########### 복수 개의 데이터 처리"
   ]
  },
  {
   "cell_type": "code",
   "execution_count": 73,
   "metadata": {},
   "outputs": [
    {
     "name": "stdout",
     "output_type": "stream",
     "text": [
      "Writing C:/Users/user/Documents/jun/AI/sample2.csv\n"
     ]
    }
   ],
   "source": [
    "%%writefile 'C:/Users/user/Documents/jun/AI/sample2.csv'\n",
    "c1, c2, c3\n",
    "4, 4.11, one\n",
    "5, 5.22, two\n",
    "6, 6.33, three"
   ]
  },
  {
   "cell_type": "code",
   "execution_count": 74,
   "metadata": {},
   "outputs": [],
   "source": [
    "df4 = dd.read_csv('C:/Users/user/Documents/jun/AI/sample*.csv')"
   ]
  },
  {
   "cell_type": "code",
   "execution_count": 75,
   "metadata": {},
   "outputs": [
    {
     "name": "stdout",
     "output_type": "stream",
     "text": [
      "[########################################] | 100% Completed |  0.1s\n"
     ]
    },
    {
     "data": {
      "text/plain": [
       "c1     6\n",
       " c2    6\n",
       " c3    6\n",
       "dtype: int64"
      ]
     },
     "execution_count": 75,
     "metadata": {},
     "output_type": "execute_result"
    }
   ],
   "source": [
    "df4.count().compute()"
   ]
  },
  {
   "cell_type": "markdown",
   "metadata": {},
   "source": [
    "## QueueRunner"
   ]
  },
  {
   "cell_type": "code",
   "execution_count": 12,
   "metadata": {},
   "outputs": [
    {
     "name": "stdout",
     "output_type": "stream",
     "text": [
      "1.0\n",
      "2.0\n",
      "3.0\n",
      "4.0\n",
      "5.0\n",
      "6.0\n",
      "1.0\n",
      "2.0\n",
      "3.0\n",
      "7.0\n",
      "8.0\n",
      "9.0\n",
      "7.0\n",
      "8.0\n",
      "9.0\n",
      "4.0\n",
      "5.0\n",
      "6.0\n",
      "1.0\n",
      "2.0\n"
     ]
    }
   ],
   "source": [
    "q = tf.FIFOQueue(20, \"float\") # queue의 길이와 저장될 데이터 형식\n",
    "#enq_ops = q.enqueue_many(([1.0, 2.0, 3.0, 4.0],))\n",
    "#qr = tf.train.QueueRunner(q, [enq_ops]*3)\n",
    "#qr = tf.train.QueueRunner(q, [enq_ops, enq_ops, enq_ops])\n",
    "# Queue 멀티 스레드 지원 (병렬수행가능), 위의 코드를 예로 들면 3개가 동시에 처리\n",
    "\n",
    "enq_ops1 = q.enqueue_many(([1.0, 2.0, 3.0],))\n",
    "enq_ops2 = q.enqueue_many(([4.0, 5.0, 6.0],))\n",
    "enq_ops3 = q.enqueue_many(([7.0, 8.0, 9.0],))\n",
    "qr = tf.train.QueueRunner(q, [enq_ops1, enq_ops2, enq_ops3])\n",
    "\n",
    "sess = tf.Session()\n",
    "coordi = tf.train.Coordinator()\n",
    "threads = qr.create_threads(sess, coord=coordi, start=True)\n",
    "\n",
    "for step in range(20):\n",
    "    print(sess.run(q.dequeue()))\n",
    "    \n",
    "coordi.request_stop()\n",
    "coordi.join(threads)\n",
    "sess.close()"
   ]
  },
  {
   "cell_type": "code",
   "execution_count": 15,
   "metadata": {},
   "outputs": [
    {
     "name": "stdout",
     "output_type": "stream",
     "text": [
      "[1, 1.11, b' one']\n",
      "[2, 2.22, b' two']\n",
      "[3, 3.33, b' three']\n",
      "[4, 4.11, b' one']\n",
      "[5, 5.22, b' two']\n",
      "[6, 6.33, b' three']\n",
      "[1, 1.11, b' one']\n",
      "[2, 2.22, b' two']\n",
      "[3, 3.33, b' three']\n",
      "[4, 4.11, b' one']\n",
      "[5, 5.22, b' two']\n",
      "[6, 6.33, b' three']\n",
      "[1, 1.11, b' one']\n",
      "[2, 2.22, b' two']\n",
      "[3, 3.33, b' three']\n",
      "[4, 4.11, b' one']\n",
      "[5, 5.22, b' two']\n",
      "[6, 6.33, b' three']\n",
      "[1, 1.11, b' one']\n",
      "[2, 2.22, b' two']\n",
      "[3, 3.33, b' three']\n",
      "[4, 4.11, b' one']\n",
      "[5, 5.22, b' two']\n",
      "[6, 6.33, b' three']\n",
      "[1, 1.11, b' one']\n",
      "[2, 2.22, b' two']\n",
      "[3, 3.33, b' three']\n",
      "[4, 4.11, b' one']\n",
      "[5, 5.22, b' two']\n",
      "[6, 6.33, b' three']\n"
     ]
    }
   ],
   "source": [
    "#################### 파일로부터 데이터를 읽어오기 ####################\n",
    "\n",
    "filename_queue = tf.train.string_input_producer(['C:/Users/user/Documents/jun/AI/sample1.csv', 'C:/Users/user/Documents/jun/AI/sample2.csv'],\n",
    "                                               shuffle=False, name='filename_queue')\n",
    "\n",
    "reader = tf.TextLineReader()\n",
    "key, value = reader.read(filename_queue)\n",
    "# 줄 단위로 가져온 자료를 변환\n",
    "\n",
    "recored_defaults = [[10], [0.0], ['null']]\n",
    "# 디폴트값이 정의되면서 데이터 타입도 동시에 각각 정의됨\n",
    "# [[0(정수)],[0.0(실수),['null'(문자)]]]\n",
    "c1, c2, c3 = tf.decode_csv(value, record_defaults = recored_defaults, \n",
    "                           field_delim=\",\")\n",
    "\n",
    "with tf.Session() as sess:\n",
    "    coordi = tf.train.Coordinator()\n",
    "    threads = tf.train.start_queue_runners(sess=sess, coord=coordi)\n",
    "    \n",
    "    for i in range(30):\n",
    "        print(sess.run([c1, c2, c3]))\n",
    "        \n",
    "    coordi.request_stop()\n",
    "    coordi.join(threads)"
   ]
  },
  {
   "cell_type": "code",
   "execution_count": 16,
   "metadata": {},
   "outputs": [
    {
     "data": {
      "text/plain": [
       "[<tf.Tensor 'DecodeCSV_3:0' shape=() dtype=float32>,\n",
       " <tf.Tensor 'DecodeCSV_3:1' shape=() dtype=float32>,\n",
       " <tf.Tensor 'DecodeCSV_3:2' shape=() dtype=float32>,\n",
       " <tf.Tensor 'DecodeCSV_3:3' shape=() dtype=float32>]"
      ]
     },
     "execution_count": 16,
     "metadata": {},
     "output_type": "execute_result"
    }
   ],
   "source": [
    "############################ 슬라이스 소스 ############################\n",
    "\n",
    "filename_queue = tf.train.string_input_producer(['C:/Users/user/Documents/jun/AI/data-01-test-score1.csv'])\n",
    "key, value = tf.TextLineReader().read(filename_queue)\n",
    "xy = tf.decode_csv(value, record_defaults=[[0.], [0.], [0.], [0.]])\n",
    "xy"
   ]
  },
  {
   "cell_type": "code",
   "execution_count": 17,
   "metadata": {},
   "outputs": [
    {
     "data": {
      "text/plain": [
       "'\\nBATCH\\n---------\\n- Batch : 전체 데이터\\n- Stochastic : 한 개의 데이터\\n- Mini Batch : Batch와 Stochastic의 절충안\\n'"
      ]
     },
     "execution_count": 17,
     "metadata": {},
     "output_type": "execute_result"
    }
   ],
   "source": [
    "\"\"\"\n",
    "BATCH\n",
    "---------\n",
    "- Batch : 전체 데이터\n",
    "- Stochastic : 한 개의 데이터\n",
    "- Mini Batch : Batch와 Stochastic의 절충안\n",
    "\"\"\"\n",
    "\n",
    "# 파일에 있는 데이터를 다 가져오는게 아니라 쪼개서 가져오는 (대용량일 경우 적용하기 좋음)"
   ]
  },
  {
   "cell_type": "code",
   "execution_count": 18,
   "metadata": {},
   "outputs": [
    {
     "name": "stdout",
     "output_type": "stream",
     "text": [
      "WARNING:tensorflow:From <ipython-input-18-c1778e2585b9>:1: batch (from tensorflow.python.training.input) is deprecated and will be removed in a future version.\n",
      "Instructions for updating:\n",
      "Queue-based input pipelines have been replaced by `tf.data`. Use `tf.data.Dataset.batch(batch_size)` (or `padded_batch(...)` if `dynamic_pad=True`).\n"
     ]
    }
   ],
   "source": [
    "train_x_batch, train_y_batch = tf.train.batch([xy[0:-1], xy[-1:]], batch_size=10)\n",
    "# batch_size=x : x개씩 끊어서 가져와라"
   ]
  },
  {
   "cell_type": "code",
   "execution_count": 19,
   "metadata": {},
   "outputs": [],
   "source": [
    "X = tf.placeholder(tf.float32, shape=[None, 3])\n",
    "y = tf.placeholder(tf.float32, shape=[None, 1])\n",
    "\n",
    "W = tf.Variable(tf.random_normal([3, 1]))\n",
    "b = tf.Variable(tf.random_normal([1]))\n",
    "\n",
    "hypot = tf.matmul(X, W) + b\n",
    "cost = tf.reduce_mean(tf.square(hypot-y))\n",
    "\n",
    "# 최소비용\n",
    "train = tf.train.GradientDescentOptimizer(learning_rate=1e-5).minimize(cost)"
   ]
  },
  {
   "cell_type": "code",
   "execution_count": 20,
   "metadata": {},
   "outputs": [
    {
     "name": "stdout",
     "output_type": "stream",
     "text": [
      "당신의 성적은 :  [[183.39053]]\n",
      "다른 사람의 성적은 :  [[184.35349]\n",
      " [176.13637]]\n"
     ]
    }
   ],
   "source": [
    "with tf.Session() as sess:\n",
    "    sess.run(tf.global_variables_initializer())\n",
    "    \n",
    "    coordi = tf.train.Coordinator()\n",
    "    threads = tf.train.start_queue_runners(sess=sess, coord=coordi)\n",
    "    \n",
    "    for step in range(2001):\n",
    "        x_batch, y_batch = sess.run([train_x_batch, train_y_batch])\n",
    "        sess.run(train, feed_dict={X:x_batch, y:y_batch})\n",
    "        \n",
    "    coordi.request_stop()\n",
    "    coordi.join(threads)\n",
    "    \n",
    "    print('당신의 성적은 : ', sess.run(hypot, feed_dict={X:[[100, 70, 101]]}))\n",
    "    print('다른 사람의 성적은 : ',\n",
    "         sess.run(hypot, feed_dict = {X:[[60,70,110],[90,100,80]]}))"
   ]
  },
  {
   "cell_type": "code",
   "execution_count": 21,
   "metadata": {},
   "outputs": [
    {
     "data": {
      "text/plain": [
       "'\\n전체 데이터갯수 : 200\\nbatch_size : 5\\nephoch의 갯수 : 1000\\n총 가중치 업데이트 횟수 => 40개(200/5)씩 1000번 = 40000번\\n'"
      ]
     },
     "execution_count": 21,
     "metadata": {},
     "output_type": "execute_result"
    }
   ],
   "source": [
    "\"\"\"\n",
    "전체 데이터갯수 : 200\n",
    "batch_size : 5\n",
    "ephoch의 갯수 : 1000\n",
    "총 가중치 업데이트 횟수 => 40개(200/5)씩 1000번 = 40000번\n",
    "\"\"\""
   ]
  },
  {
   "cell_type": "markdown",
   "metadata": {},
   "source": [
    "## 로지스틱 회귀모델"
   ]
  },
  {
   "cell_type": "code",
   "execution_count": 5,
   "metadata": {},
   "outputs": [],
   "source": [
    "x_data = [[1,2],[2,3],[3,1],[4,3],[5,3],[6,2]]\n",
    "y_data = [[0],[0],[0],[1],[1],[1]]\n",
    "\n",
    "X = tf.placeholder(tf.float32, shape=[None,2])\n",
    "y = tf.placeholder(tf.float32, shape=[None,1])\n",
    "\n",
    "W = tf.Variable(tf.random_normal([2,1]))\n",
    "b = tf.Variable(tf.random_normal([1]))\n",
    "\n",
    "# 가설\n",
    "hypot = tf.sigmoid(tf.matmul(X,W) + b)\n",
    "\n",
    "# 비용 함수\n",
    "cost = -tf.reduce_mean(y * tf.log(hypot) + (1 - y) * tf.log(1 - hypot))\n",
    "\n",
    "# 최소비용\n",
    "train = tf.train.GradientDescentOptimizer(learning_rate=0.01).minimize(cost)\n",
    "\n",
    "\n"
   ]
  },
  {
   "cell_type": "code",
   "execution_count": 6,
   "metadata": {},
   "outputs": [],
   "source": [
    "sess = tf.Session()\n",
    "sess.run(tf.global_variables_initializer())\n",
    "for step in range(10001):\n",
    "    sess.run(train, feed_dict={X:x_data, y:y_data})"
   ]
  },
  {
   "cell_type": "code",
   "execution_count": 11,
   "metadata": {},
   "outputs": [
    {
     "data": {
      "text/plain": [
       "<tf.Tensor 'Equal_3:0' shape=(?, 1) dtype=bool>"
      ]
     },
     "execution_count": 11,
     "metadata": {},
     "output_type": "execute_result"
    }
   ],
   "source": [
    "# 정확도 측정\n",
    "pred = tf.cast(hypot>0.5, dtype=tf.float32)\n",
    "accuracy = tf.equal(pred, y)"
   ]
  },
  {
   "cell_type": "code",
   "execution_count": 8,
   "metadata": {},
   "outputs": [
    {
     "data": {
      "text/plain": [
       "[array([[0.02956051],\n",
       "        [0.1572166 ],\n",
       "        [0.29917198],\n",
       "        [0.7839961 ],\n",
       "        [0.94121045],\n",
       "        [0.9807192 ]], dtype=float32),\n",
       " array([[0.],\n",
       "        [0.],\n",
       "        [0.],\n",
       "        [1.],\n",
       "        [1.],\n",
       "        [1.]], dtype=float32),\n",
       " array([[ True],\n",
       "        [ True],\n",
       "        [ True],\n",
       "        [ True],\n",
       "        [ True],\n",
       "        [ True]])]"
      ]
     },
     "execution_count": 8,
     "metadata": {},
     "output_type": "execute_result"
    }
   ],
   "source": [
    "# 예측 실행\n",
    "sess.run([hypot,pred, accuracy], feed_dict={X:x_data, y:y_data})"
   ]
  },
  {
   "cell_type": "code",
   "execution_count": 32,
   "metadata": {},
   "outputs": [],
   "source": [
    "# conda clean --all"
   ]
  },
  {
   "cell_type": "markdown",
   "metadata": {},
   "source": [
    "### softmax Classifier"
   ]
  },
  {
   "cell_type": "code",
   "execution_count": 34,
   "metadata": {},
   "outputs": [],
   "source": [
    "x_data = [[1, 2, 1, 1], [2, 1, 3, 2], [3, 1, 3, 4], [4, 1, 5, 5], [1, 7, 5, 5], \n",
    "                                                        [1, 2, 5, 6], [1, 6, 6, 6], [1, 7, 7, 7]]\n",
    "y_data = [[0, 0, 1], [0, 0, 1], [0, 0, 1], [0, 1, 0], [0, 1, 0], [0, 1, 0], [1, 0, 0], [1, 0, 0]]\n",
    "\n"
   ]
  },
  {
   "cell_type": "code",
   "execution_count": 43,
   "metadata": {},
   "outputs": [],
   "source": [
    "X = tf.placeholder(tf.float32, shape = [None, 4])\n",
    "y = tf.placeholder(tf.float32, shape = [None, 3])\n",
    "\n",
    "W = tf.Variable(tf.random_normal([4, 3]))\n",
    "b = tf.Variable(tf.random_normal([3]))\n",
    "\n",
    "# 가설 준비\n",
    "hypot = tf.nn.softmax(tf.matmul(X,W) + b)\n",
    "\n",
    "cost = -tf.reduce_mean(y * tf.log(hypot) + (1 - y) * tf.log(1 - hypot))\n",
    "train = tf.train.GradientDescentOptimizer(learning_rate=0.1).minimize(cost)"
   ]
  },
  {
   "cell_type": "code",
   "execution_count": 45,
   "metadata": {},
   "outputs": [
    {
     "name": "stdout",
     "output_type": "stream",
     "text": [
      "[[8.063767e-03 9.918864e-01 4.984265e-05]]\n",
      "[1]\n"
     ]
    }
   ],
   "source": [
    "with tf.Session() as sess:\n",
    "    sess.run(tf.global_variables_initializer())\n",
    "    \n",
    "    for step in range(2001):\n",
    "        _, c = sess.run([train, cost], feed_dict={X:x_data, y:y_data})\n",
    "        #if step%500 == 0:\n",
    "        #    print(step, cost)\n",
    "        \n",
    "    #테스트\n",
    "    result = sess.run(hypot, feed_dict={X:[[1, 11, 7, 9]]})\n",
    "    print(result)\n",
    "    print(sess.run(tf.arg_max(result, 1)))"
   ]
  }
 ],
 "metadata": {
  "kernelspec": {
   "display_name": "Python 3",
   "language": "python",
   "name": "python3"
  },
  "language_info": {
   "codemirror_mode": {
    "name": "ipython",
    "version": 3
   },
   "file_extension": ".py",
   "mimetype": "text/x-python",
   "name": "python",
   "nbconvert_exporter": "python",
   "pygments_lexer": "ipython3",
   "version": "3.8.3"
  }
 },
 "nbformat": 4,
 "nbformat_minor": 4
}
